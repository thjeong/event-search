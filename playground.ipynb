{
 "cells": [
  {
   "cell_type": "code",
   "execution_count": 1,
   "id": "850d1409",
   "metadata": {},
   "outputs": [],
   "source": [
    "import os, time, re, json, asyncio\n",
    "from google import genai\n",
    "from utils import parse_lenient_json\n",
    "\n",
    "#json_pat = re.compile(r'(\\{.*?\\}|\\[.*?\\])', re.DOTALL)\n",
    "\n",
    "event_list = json.loads(open('resources/event_list.json', 'r').read())\n",
    "event_dict = {event['event_id']: event for event in event_list}\n",
    "\n",
    "SEARCHABLE_KEYS = ['event_id', 'detail']\n",
    "POOL_SIZE = 6\n",
    "event_pool = []\n",
    "for k in range(POOL_SIZE):\n",
    "    index_of_k = [idx for idx in range(len(event_list)) if idx % POOL_SIZE == k]\n",
    "    #print(k, index_of_k)\n",
    "    event_pool.append([{key: event_list[idx][key] for key in SEARCHABLE_KEYS} for idx in index_of_k])"
   ]
  },
  {
   "cell_type": "code",
   "execution_count": 4,
   "id": "a46ecd23",
   "metadata": {},
   "outputs": [
    {
     "name": "stdout",
     "output_type": "stream",
     "text": [
      "eco-diode-468322-s5\n"
     ]
    }
   ],
   "source": [
    "from google import genai\n",
    "MODEL_ID = \"gemini-2.5-flash-lite\"\n",
    "\n",
    "PROJECT_ID = \"eco-diode-468322-s5\" \n",
    "print(PROJECT_ID)\n",
    "\n",
    "LOCATION = \"global\"\n",
    "\n",
    "client = genai.Client(vertexai=True, project=PROJECT_ID, location=LOCATION)"
   ]
  },
  {
   "cell_type": "code",
   "execution_count": 5,
   "id": "ba4592d4",
   "metadata": {},
   "outputs": [
    {
     "name": "stdout",
     "output_type": "stream",
     "text": [
      "26 일본 여행을 갈려고 해. 관련 캐시백 이벤트 있어? - 목록에서 해당하는 event_id만 list로 만들어줘. 다른 말은 하지마 : [{'event_id': '1234711_2239', 'detail': '신한카드로 아파트 관리비/도시가스/이동통신요금/전기요금 자동납부 신규 신청 및 납부 시 최대 2만원 캐시백과 추첨을 통해 100만원 상당의 경품을 제공합니다.'}, {'event_id': '1235081_2239', 'detail': 'Tops 쿠폰 신청 고객에게 롯데면세점 온라인 최대 $110 할인 쿠폰 및 오프라인 최대 4만원 LDF PAY, GOLD 등급 UP 혜택 제공.'}, {'event_id': '1235031_2239', 'detail': 'CJ ONE 프리즘 신한카드로 15만원 이상 이용하고 응모하면 CGV 관람권 세트(일반 4매, IMAX 2매, 4DX 2매)를 제공하며, 관람권은 2025년 10월 말 휴대폰으로 발송됩니다.'}, {'event_id': '1235059_2239', 'detail': '신한 JCB 신용카드로 일본 현지 대중교통을 터치결제 시 이용금액의 50% 캐시백 (카드당 최대 1,000엔)'}, {'event_id': '1235027_2239', 'detail': '신한 개인 신용카드 신규 회원 대상, 수소차 충전할인 신한카드로 20만원 이상 이용 시 10만원 캐시백 제공.'}, {'event_id': '1234997_2239', 'detail': '앱테크 5초 게임 주 5일 참여 시 매주 출석 포인트 지급, 사다리타기 및 오늘의 미션 참여 시 1만P 추첨 응모 기회 제공.'}, {'event_id': '1234881_2239', 'detail': '신한카드 고객이 참좋은여행 해외패키지 및 에어텔 상품 예약 시 최대 5% 할인 제공'}, {'event_id': '1234869_2239', 'detail': '전자랜드에서 가전 구매 시 신한카드 상담 신청 후 결제하면 정기 이벤트 혜택과 구매금액의 1.5% 특별 캐시백을 제공합니다.'}, {'event_id': '1234918_2239', 'detail': '신한 후불하이패스카드 6개월 미이용 고객이 기간 내 하이패스 통행료 3만원 이상 이용 시 1만 5천원 캐시백 제공.'}, {'event_id': '1234868_2239', 'detail': 'CU 매장에서 신한 SOL페이/슈퍼SOL 결제 시 삼각김밥/샌드위치 전상품 개당 500원 즉시 할인 (오전 8시~오후 2시)'}, {'event_id': '1234802_2239', 'detail': '우리집케어 서비스 신규 가입 및 유지 시 메가커피 아메리카노 전원 증정'}, {'event_id': '1234761_2239', 'detail': 'SOL트래블 체크 또는 SOL트래블J 체크카드로 도시락 와이파이/eSIM/유심 결제 시 10% 할인 혜택이 제공됩니다.'}, {'event_id': '1234912_2239', 'detail': '신한 신용카드로 넷플릭스/웨이브/멜론 멤버십을 결제하면 최대 6천원 캐시백 제공'}, {'event_id': '1234965_2239', 'detail': '알리익스프레스 신한카드 발급 및 이용 시 알리익스프레스에서 10만원, 해외에서 7만원 이상 결제하면 최대 13만원 캐시백 혜택 제공.'}, {'event_id': '1234685_2239', 'detail': '신한카드 플리(쿠키런) 신용카드 신규 발급 후 13만원 이상 이용 시 10만원 캐시백 및 콜라보 굿즈 패키지를 증정하는 이벤트'}, {'event_id': '1234506_2239', 'detail': '웨딩 상담 완료 시 1만P 지급, 신한카드 결제 시 5% 추가 할인 및 스드메, 예물 등 특별 혜택을 제공합니다.'}, {'event_id': '1232370_2239', 'detail': '마이카 다이렉트 내차 팔기 고객 중 차량가격 제안 24시간 내 판매 확정 시 현금 5만원 즉시 할인'}, {'event_id': '1233268_2239', 'detail': '마이카 플랫폼에서 카앤피플 출장 세차 또는 카수리 출장 정비 이용 시 할인 및 마이신한포인트 적립 혜택을 제공합니다.'}, {'event_id': '1233075_2239', 'detail': '신한카드 프리미엄 고객을 위한 파라다이스시티 스위트 객실 프로모션으로 조식 및 씨메르, 원더박스 등 부대시설 혜택 제공.'}, {'event_id': '1232659_2239', 'detail': '일본 빅카메라에서 신한 UPI카드로 2만엔 이상 결제 시 10% 즉시 할인 및 면세, 추가 할인 쿠폰 제공'}, {'event_id': '1232474_2239', 'detail': '2025년 국내 30여개 특급호텔에서 플래티늄카드 고객에게 레스토랑 할인 및 객실 우대 등 다양한 프리미엄 혜택 제공'}, {'event_id': '1231667_2239', 'detail': 'Tops Club 고객이 Tops 쿠폰을 통해 메가박스 영화 및 콤보 할인 혜택을 받는 이벤트'}, {'event_id': '1225339_2239', 'detail': '여행친구 DB손해보험 해외 여행자보험 가입 및 신한카드 결제 시 보험료 10% 즉시 할인 (최대 3만원)'}, {'event_id': '1231068_2239', 'detail': '신한 VIP카드(Master World 등급) 고객에게 전국 제휴 호텔 발레파킹 및 주차 서비스를 제공합니다.'}, {'event_id': '1230632_2239', 'detail': '신한 Visa 카드로 해외직구 가맹점에서 쇼핑하고 최대 87.5% 캐시백을 받으세요.'}, {'event_id': '1227008_2239', 'detail': '신한 마이카 장기렌터카 이용 고객에게 계약 금액별 최대 20만원 상당의 혜택 제공'}]\n"
     ]
    }
   ],
   "source": [
    "query = \"일본 여행을 갈려고 해. 관련 캐시백 이벤트 있어?\"\n",
    "prompt = query + \"\"\" - 목록에서 해당하는 event_id만 list로 만들어줘. 다른 말은 하지마 : \"\"\" + str(event_pool[k])\n",
    "\n",
    "print(len(event_pool[k]), prompt)\n",
    "resp = await client.aio.models.generate_content(\n",
    "model=MODEL_ID,\n",
    "contents=prompt)"
   ]
  },
  {
   "cell_type": "code",
   "execution_count": 6,
   "id": "57d2a7f3",
   "metadata": {},
   "outputs": [
    {
     "data": {
      "text/plain": [
       "\"['1235059_2239', '1234881_2239', '1234761_2239', '1232659_2239', '1225339_2239']\""
      ]
     },
     "execution_count": 6,
     "metadata": {},
     "output_type": "execute_result"
    }
   ],
   "source": [
    "resp.text"
   ]
  },
  {
   "cell_type": "code",
   "execution_count": null,
   "id": "5760fe95",
   "metadata": {},
   "outputs": [],
   "source": []
  }
 ],
 "metadata": {
  "kernelspec": {
   "display_name": "Python 3",
   "language": "python",
   "name": "python3"
  },
  "language_info": {
   "codemirror_mode": {
    "name": "ipython",
    "version": 3
   },
   "file_extension": ".py",
   "mimetype": "text/x-python",
   "name": "python",
   "nbconvert_exporter": "python",
   "pygments_lexer": "ipython3",
   "version": "3.12.3"
  }
 },
 "nbformat": 4,
 "nbformat_minor": 5
}
